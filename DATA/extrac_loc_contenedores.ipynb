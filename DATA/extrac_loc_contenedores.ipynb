{
 "cells": [
  {
   "cell_type": "markdown",
   "metadata": {},
   "source": [
    "## Extracción datos JASON localización contenedores:"
   ]
  },
  {
   "cell_type": "code",
   "execution_count": 1,
   "metadata": {},
   "outputs": [
    {
     "name": "stdout",
     "output_type": "stream",
     "text": [
      "Datos extraídos y guardados en contenedores_envases.json\n"
     ]
    }
   ],
   "source": [
    "import requests\n",
    "import json\n",
    "\n",
    "url = \"https://services3.arcgis.com/lnFkorfBb3ma2riJ/ArcGIS/rest/services/Contenedores_envases/FeatureServer/0/query\"\n",
    "params = {\n",
    "    \"where\": \"1=1\",\n",
    "    \"outFields\": \"*\",\n",
    "    \"returnGeometry\": \"true\",\n",
    "    \"f\": \"json\"\n",
    "}\n",
    "\n",
    "response = requests.get(url, params=params)\n",
    "data = response.json()\n",
    "\n",
    "# Guarda los datos en un archivo JSON\n",
    "with open(\"contenedores_envases.json\", \"w\") as f:\n",
    "    json.dump(data, f)\n",
    "\n",
    "print(\"Datos extraídos y guardados en contenedores_envases.json\")"
   ]
  },
  {
   "cell_type": "code",
   "execution_count": 2,
   "metadata": {},
   "outputs": [
    {
     "name": "stdout",
     "output_type": "stream",
     "text": [
      "Datos guardados en Contenedores_envases.json\n",
      "Datos guardados en Contenedores_vidrio_Madrid.json\n",
      "Datos guardados en Contenedores_papel-cartón.json\n",
      "Datos guardados en Contenedores_organica_Madrid.json\n",
      "Datos guardados en Contenedores_resto_Madrid.json\n",
      "Datos guardados en Contenedores_ropa_autorizados_del_Ayuntamiento_de_Madrid_vista.json\n"
     ]
    }
   ],
   "source": [
    "import requests\n",
    "import json\n",
    "\n",
    "def obtener_datos(url):\n",
    "    # Modificar la URL para acceder al endpoint de consulta\n",
    "    url_query = url.replace('FeatureServer', 'FeatureServer/0/query')\n",
    "    \n",
    "    params = {\n",
    "        \"where\": \"1=1\",\n",
    "        \"outFields\": \"*\",\n",
    "        \"returnGeometry\": \"true\",\n",
    "        \"f\": \"json\"\n",
    "    }\n",
    "    \n",
    "    response = requests.get(url_query, params=params)\n",
    "    if response.status_code == 200:\n",
    "        return response.json()\n",
    "    else:\n",
    "        print(f\"Error al obtener datos de {url}\")\n",
    "        return None\n",
    "\n",
    "# Lista de URLs de los servicios\n",
    "urls = [\n",
    "    \"https://services3.arcgis.com/lnFkorfBb3ma2riJ/ArcGIS/rest/services/Contenedores_envases/FeatureServer\",\n",
    "    \"https://services3.arcgis.com/lnFkorfBb3ma2riJ/arcgis/rest/services/Contenedores_vidrio_(Madrid)/FeatureServer\",\n",
    "    \"https://services3.arcgis.com/lnFkorfBb3ma2riJ/arcgis/rest/services/Contenedores_papel-cartón/FeatureServer\",\n",
    "    \"https://services3.arcgis.com/lnFkorfBb3ma2riJ/arcgis/rest/services/Contenedores_organica_(Madrid)/FeatureServer\",\n",
    "    \"https://services3.arcgis.com/lnFkorfBb3ma2riJ/arcgis/rest/services/Contenedores_resto_(Madrid)/FeatureServer\",\n",
    "    \"https://services3.arcgis.com/lnFkorfBb3ma2riJ/arcgis/rest/services/Contenedores_ropa_autorizados_del_Ayuntamiento_de_Madrid_vista/FeatureServer\"\n",
    "]\n",
    "\n",
    "for url in urls:\n",
    "    nombre_archivo = url.split('/')[-2].replace('(', '').replace(')', '').replace(' ', '_') + '.json'\n",
    "    datos = obtener_datos(url)\n",
    "    if datos:\n",
    "        with open(nombre_archivo, 'w', encoding='utf-8') as f:\n",
    "            json.dump(datos, f, ensure_ascii=False, indent=4)\n",
    "        print(f\"Datos guardados en {nombre_archivo}\")\n"
   ]
  },
  {
   "cell_type": "markdown",
   "metadata": {},
   "source": [
    "## Extracción datos JASON barrios Madrid"
   ]
  },
  {
   "cell_type": "code",
   "execution_count": 3,
   "metadata": {},
   "outputs": [
    {
     "name": "stdout",
     "output_type": "stream",
     "text": [
      "Datos de los barrios de Madrid guardados en barrios_madrid.json\n"
     ]
    }
   ],
   "source": [
    "import requests\n",
    "import json\n",
    "\n",
    "url = \"https://services5.arcgis.com/4TXrdeWh0RyCqPgB/arcgis/rest/services/Barrios_de_Madrid/FeatureServer/0/query\"\n",
    "params = {\n",
    "    \"where\": \"1=1\",\n",
    "    \"outFields\": \"*\",\n",
    "    \"returnGeometry\": \"true\",\n",
    "    \"f\": \"json\"\n",
    "}\n",
    "\n",
    "response = requests.get(url, params=params)\n",
    "data = response.json()\n",
    "\n",
    "with open(\"barrios_madrid.json\", \"w\", encoding=\"utf-8\") as f:\n",
    "    json.dump(data, f, ensure_ascii=False, indent=4)\n",
    "\n",
    "print(\"Datos de los barrios de Madrid guardados en barrios_madrid.json\")\n"
   ]
  }
 ],
 "metadata": {
  "kernelspec": {
   "display_name": "3.12.6",
   "language": "python",
   "name": "python3"
  },
  "language_info": {
   "codemirror_mode": {
    "name": "ipython",
    "version": 3
   },
   "file_extension": ".py",
   "mimetype": "text/x-python",
   "name": "python",
   "nbconvert_exporter": "python",
   "pygments_lexer": "ipython3",
   "version": "3.12.6"
  }
 },
 "nbformat": 4,
 "nbformat_minor": 2
}
